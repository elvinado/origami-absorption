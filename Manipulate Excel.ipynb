{
 "cells": [
  {
   "cell_type": "code",
   "execution_count": null,
   "metadata": {},
   "outputs": [],
   "source": [
    "import pandas as pd\n",
    "import numpy as np\n",
    "import matplotlib.pyplot as plt\n",
    "from mlxtend.plotting import category_scatter"
   ]
  },
  {
   "cell_type": "code",
   "execution_count": null,
   "metadata": {},
   "outputs": [],
   "source": [
    "df = pd.read_excel(\"Full Triangle Analysis.xlsx\",\"Tri Analysis\",header=None)"
   ]
  },
  {
   "cell_type": "code",
   "execution_count": null,
   "metadata": {},
   "outputs": [],
   "source": [
    "df.shape"
   ]
  },
  {
   "cell_type": "code",
   "execution_count": null,
   "metadata": {},
   "outputs": [],
   "source": [
    "freqs = df[0].str.extract(pat=\"(\\d+) Hz\").dropna()[0].values.astype('int32')\n",
    "freqs"
   ]
  },
  {
   "cell_type": "code",
   "execution_count": null,
   "metadata": {},
   "outputs": [],
   "source": [
    "s_heights = np.array([5,4,3,2,1])\n",
    "s_heights"
   ]
  },
  {
   "cell_type": "code",
   "execution_count": null,
   "metadata": {},
   "outputs": [],
   "source": [
    "materials = np.array([\"Board\",\"Felt\",\"EVA\"]) #0-Board, 1-Felt, 2-EVA\n",
    "materials"
   ]
  },
  {
   "cell_type": "code",
   "execution_count": null,
   "metadata": {},
   "outputs": [],
   "source": [
    "new_df = pd.DataFrame(columns=[\"Material\",\"Freq\",\"S_height\",\"P/A\",\"(Pm/Am)/(P/A)\",\"Alpha\"])\n",
    "new_df"
   ]
  },
  {
   "cell_type": "code",
   "execution_count": null,
   "metadata": {},
   "outputs": [],
   "source": [
    "col_skip = 1\n",
    "row_skip = 4\n",
    "row_set = 8\n",
    "col_set = 3\n",
    "start_row = 2\n",
    "start_col = 1\n",
    "# df.iloc[start_row:start_row + row_set,start_col:start_col + col_set] #iloc[row,column]"
   ]
  },
  {
   "cell_type": "code",
   "execution_count": null,
   "metadata": {},
   "outputs": [],
   "source": [
    "for j, f in enumerate(freqs):\n",
    "    row = start_row + ((row_set+row_skip)*j)\n",
    "    for i,m in enumerate(materials):\n",
    "        m_start_col = start_col + ((5*col_set + 1) * i)\n",
    "        for h in s_heights:\n",
    "            col = m_start_col + (col_set * (5-h))\n",
    "            df_ = df.iloc[row:row + row_set,col:col + col_set].copy()\n",
    "            df_.columns = [\"P/A\",\"(Pm/Am)/(P/A)\",\"Alpha\"]\n",
    "            df_[\"S_height\"] = h\n",
    "            df_[\"Material\"] = m\n",
    "            df_[\"Freq\"] = f\n",
    "            new_df = new_df.append(df_,ignore_index=True)"
   ]
  },
  {
   "cell_type": "code",
   "execution_count": null,
   "metadata": {},
   "outputs": [],
   "source": [
    "# Adding flat material into the table\n",
    "df_ = None\n",
    "h = 0\n",
    "for i,m in enumerate([\"EVA\",\"Board\",\"Felt\"]):\n",
    "    df_ = df.iloc[196:212,[0,1,2+(i*1)]].copy()\n",
    "    df_.columns = [\"(Pm/Am)/(P/A)\",\"Freq\",\"Alpha\"]\n",
    "    df_[\"S_height\"] = h\n",
    "    df_[\"Material\"] = m\n",
    "    df_[\"P/A\"] = 0\n",
    "    new_df = new_df.append(df_,ignore_index=True)"
   ]
  },
  {
   "cell_type": "code",
   "execution_count": null,
   "metadata": {},
   "outputs": [],
   "source": [
    "new_df[new_df[\"Material\"] == \"Board\"].plot(x = \"Freq\",y = \"Alpha\",kind = \"scatter\")"
   ]
  },
  {
   "cell_type": "code",
   "execution_count": null,
   "metadata": {},
   "outputs": [],
   "source": [
    "new_df[new_df[\"Material\"] == \"Felt\"].plot(x = \"Freq\",y = \"Alpha\",kind = \"scatter\")"
   ]
  },
  {
   "cell_type": "code",
   "execution_count": null,
   "metadata": {},
   "outputs": [],
   "source": [
    "new_df[new_df[\"Material\"] == \"EVA\"].plot(x = \"Freq\",y = \"Alpha\",kind = \"scatter\")"
   ]
  },
  {
   "cell_type": "code",
   "execution_count": null,
   "metadata": {},
   "outputs": [],
   "source": [
    "fig = category_scatter(x='Freq', y='Alpha', label_col='Material', data=new_df, legend_loc='upper left')"
   ]
  },
  {
   "cell_type": "code",
   "execution_count": null,
   "metadata": {},
   "outputs": [],
   "source": [
    "fig = category_scatter(x='Freq', y='Alpha', label_col='S_height', data=new_df[new_df[\"Material\"] == \"Felt\"])"
   ]
  },
  {
   "cell_type": "code",
   "execution_count": null,
   "metadata": {},
   "outputs": [],
   "source": []
  }
 ],
 "metadata": {
  "kernelspec": {
   "display_name": "Python 3",
   "language": "python",
   "name": "python3"
  },
  "language_info": {
   "codemirror_mode": {
    "name": "ipython",
    "version": 3
   },
   "file_extension": ".py",
   "mimetype": "text/x-python",
   "name": "python",
   "nbconvert_exporter": "python",
   "pygments_lexer": "ipython3",
   "version": "3.7.7"
  }
 },
 "nbformat": 4,
 "nbformat_minor": 4
}
